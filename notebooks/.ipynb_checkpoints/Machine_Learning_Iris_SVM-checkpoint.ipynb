{
 "cells": [
  {
   "cell_type": "markdown",
   "id": "ded267c1-932e-4491-b864-30020534f6d3",
   "metadata": {},
   "source": [
    "# Support Vector Machine (SVM) Classification on the Iris Dataset\n",
    "\n",
    "This example demonstrates how to train and evaluate a Support Vector Machine (SVM) classifier using the classic Iris dataset.\n",
    "\n",
    "### Steps included:\n",
    "- Loading the Iris dataset from an online source.\n",
    "- Splitting the dataset into training and validation subsets (80% training, 20% validation).\n",
    "- Training an SVM model on the training data.\n",
    "- Making predictions on the validation data.\n",
    "- Evaluating model performance with accuracy score, confusion matrix, and a detailed classification report including precision, recall, and F1-score.\n",
    "\n",
    "This simple workflow is a foundational example of supervised machine learning for classification tasks.\n"
   ]
  },
  {
   "cell_type": "code",
   "execution_count": 1,
   "id": "733be4c5-0541-4288-a957-435dc4b2dca4",
   "metadata": {},
   "outputs": [
    {
     "name": "stdout",
     "output_type": "stream",
     "text": [
      "Accuracy: 0.9667\n",
      "\n",
      "Confusion Matrix:\n",
      "[[11  0  0]\n",
      " [ 0 12  1]\n",
      " [ 0  0  6]]\n",
      "\n",
      "Classification Report:\n",
      "                 precision    recall  f1-score   support\n",
      "\n",
      "    Iris-setosa       1.00      1.00      1.00        11\n",
      "Iris-versicolor       1.00      0.92      0.96        13\n",
      " Iris-virginica       0.86      1.00      0.92         6\n",
      "\n",
      "       accuracy                           0.97        30\n",
      "      macro avg       0.95      0.97      0.96        30\n",
      "   weighted avg       0.97      0.97      0.97        30\n",
      "\n"
     ]
    }
   ],
   "source": [
    "# Import libraries\n",
    "from pandas import read_csv\n",
    "from sklearn.model_selection import train_test_split\n",
    "from sklearn.svm import SVC\n",
    "from sklearn.metrics import accuracy_score, confusion_matrix, classification_report\n",
    "\n",
    "# Load dataset with column names\n",
    "url = \"https://raw.githubusercontent.com/jbrownlee/Datasets/master/iris.csv\"\n",
    "names = ['sepal-length', 'sepal-width', 'petal-length', 'petal-width', 'class']\n",
    "dataset = read_csv(url, names=names)\n",
    "\n",
    "# Split dataset into input features (X) and target variable (y)\n",
    "array = dataset.values\n",
    "X = array[:, 0:4]\n",
    "y = array[:, 4]\n",
    "\n",
    "# Split into training and validation datasets (80% train, 20% test)\n",
    "X_train, X_validation, Y_train, Y_validation = train_test_split(\n",
    "    X, y, test_size=0.20, random_state=1\n",
    ")\n",
    "\n",
    "# Initialize the SVM model\n",
    "model = SVC(gamma='auto')\n",
    "\n",
    "# Train the model\n",
    "model.fit(X_train, Y_train)\n",
    "\n",
    "# Make predictions on the validation set\n",
    "predictions = model.predict(X_validation)\n",
    "\n",
    "# Evaluate and print model performance\n",
    "print(f\"Accuracy: {accuracy_score(Y_validation, predictions):.4f}\")\n",
    "print(\"\\nConfusion Matrix:\")\n",
    "print(confusion_matrix(Y_validation, predictions))\n",
    "print(\"\\nClassification Report:\")\n",
    "print(classification_report(Y_validation, predictions))\n"
   ]
  }
 ],
 "metadata": {
  "kernelspec": {
   "display_name": "Python 3 (ipykernel)",
   "language": "python",
   "name": "python3"
  },
  "language_info": {
   "codemirror_mode": {
    "name": "ipython",
    "version": 3
   },
   "file_extension": ".py",
   "mimetype": "text/x-python",
   "name": "python",
   "nbconvert_exporter": "python",
   "pygments_lexer": "ipython3",
   "version": "3.9.18"
  }
 },
 "nbformat": 4,
 "nbformat_minor": 5
}
